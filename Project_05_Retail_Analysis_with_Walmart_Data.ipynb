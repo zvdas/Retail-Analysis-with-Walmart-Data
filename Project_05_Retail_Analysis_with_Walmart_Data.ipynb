{
 "cells": [
  {
   "cell_type": "markdown",
   "metadata": {},
   "source": [
    "# Project 5 - Retail Analysis with Walmart Data"
   ]
  },
  {
   "cell_type": "code",
   "execution_count": 1,
   "metadata": {
    "colab": {
     "base_uri": "https://localhost:8080/",
     "height": 71
    },
    "colab_type": "code",
    "id": "53V9v52QcbL0",
    "outputId": "b433416e-c09a-4086-9a63-d9d5d18f0311"
   },
   "outputs": [],
   "source": [
    "import pandas as pd\n",
    "import numpy as np\n",
    "import zipfile\n",
    "from scipy.stats import variation\n",
    "import scipy.stats as stats\n",
    "import datetime as dt\n",
    "import seaborn as sns\n",
    "import matplotlib.pyplot as plt\n",
    "%matplotlib inline\n",
    "from sklearn import preprocessing\n",
    "import statsmodels.api as sm\n",
    "from statsmodels.formula.api import ols\n",
    "from statsmodels.stats.multicomp import pairwise_tukeyhsd\n",
    "from sklearn.model_selection import train_test_split\n",
    "from sklearn.linear_model import LinearRegression\n",
    "from sklearn.ensemble import RandomForestRegressor\n",
    "from sklearn.neighbors import KNeighborsRegressor"
   ]
  },
  {
   "cell_type": "markdown",
   "metadata": {
    "colab_type": "text",
    "id": "1m-ECS8bGLI6"
   },
   "source": [
    "### Import the Dataset"
   ]
  },
  {
   "cell_type": "code",
   "execution_count": 2,
   "metadata": {},
   "outputs": [],
   "source": [
    "with zipfile.ZipFile('1577429980_walmart_store_sales.zip','r') as zip_ref:\n",
    "    zip_ref.extractall('Project 05 - Retail Analysis with Walmart Data')"
   ]
  },
  {
   "cell_type": "code",
   "execution_count": 3,
   "metadata": {
    "colab": {
     "base_uri": "https://localhost:8080/",
     "height": 0
    },
    "colab_type": "code",
    "id": "TMAyWjbncoBB",
    "outputId": "d22b22c0-af1e-4c89-b167-003130a1ad66"
   },
   "outputs": [
    {
     "name": "stderr",
     "output_type": "stream",
     "text": [
      "<ipython-input-3-ac80791f74b5>:1: FutureWarning: The pandas.datetime class is deprecated and will be removed from pandas in a future version. Import from datetime module instead.\n",
      "  dateparse = lambda x: pd.datetime.strptime(x,'%d-%m-%Y')\n"
     ]
    },
    {
     "data": {
      "text/plain": [
       "(6435, 8)"
      ]
     },
     "execution_count": 3,
     "metadata": {},
     "output_type": "execute_result"
    }
   ],
   "source": [
    "dateparse = lambda x: pd.datetime.strptime(x,'%d-%m-%Y')\n",
    "walmart = pd.read_csv('Project 05 - Retail Analysis with Walmart Data/Walmart_Store_sales.csv',parse_dates=['Date'],date_parser=dateparse)\n",
    "walmart.shape"
   ]
  },
  {
   "cell_type": "code",
   "execution_count": 4,
   "metadata": {
    "colab": {
     "base_uri": "https://localhost:8080/",
     "height": 0
    },
    "colab_type": "code",
    "id": "wjzsSQV6dGJK",
    "outputId": "cf1fad4a-b153-4a1e-b11a-2d3a58f704c6"
   },
   "outputs": [
    {
     "data": {
      "text/html": [
       "<div>\n",
       "<style scoped>\n",
       "    .dataframe tbody tr th:only-of-type {\n",
       "        vertical-align: middle;\n",
       "    }\n",
       "\n",
       "    .dataframe tbody tr th {\n",
       "        vertical-align: top;\n",
       "    }\n",
       "\n",
       "    .dataframe thead th {\n",
       "        text-align: right;\n",
       "    }\n",
       "</style>\n",
       "<table border=\"1\" class=\"dataframe\">\n",
       "  <thead>\n",
       "    <tr style=\"text-align: right;\">\n",
       "      <th></th>\n",
       "      <th>Store</th>\n",
       "      <th>Date</th>\n",
       "      <th>Weekly_Sales</th>\n",
       "      <th>Holiday_Flag</th>\n",
       "      <th>Temperature</th>\n",
       "      <th>Fuel_Price</th>\n",
       "      <th>CPI</th>\n",
       "      <th>Unemployment</th>\n",
       "    </tr>\n",
       "  </thead>\n",
       "  <tbody>\n",
       "    <tr>\n",
       "      <th>0</th>\n",
       "      <td>1</td>\n",
       "      <td>2010-02-05</td>\n",
       "      <td>1643690.90</td>\n",
       "      <td>0</td>\n",
       "      <td>42.31</td>\n",
       "      <td>2.572</td>\n",
       "      <td>211.096358</td>\n",
       "      <td>8.106</td>\n",
       "    </tr>\n",
       "    <tr>\n",
       "      <th>1</th>\n",
       "      <td>1</td>\n",
       "      <td>2010-02-12</td>\n",
       "      <td>1641957.44</td>\n",
       "      <td>1</td>\n",
       "      <td>38.51</td>\n",
       "      <td>2.548</td>\n",
       "      <td>211.242170</td>\n",
       "      <td>8.106</td>\n",
       "    </tr>\n",
       "    <tr>\n",
       "      <th>2</th>\n",
       "      <td>1</td>\n",
       "      <td>2010-02-19</td>\n",
       "      <td>1611968.17</td>\n",
       "      <td>0</td>\n",
       "      <td>39.93</td>\n",
       "      <td>2.514</td>\n",
       "      <td>211.289143</td>\n",
       "      <td>8.106</td>\n",
       "    </tr>\n",
       "    <tr>\n",
       "      <th>3</th>\n",
       "      <td>1</td>\n",
       "      <td>2010-02-26</td>\n",
       "      <td>1409727.59</td>\n",
       "      <td>0</td>\n",
       "      <td>46.63</td>\n",
       "      <td>2.561</td>\n",
       "      <td>211.319643</td>\n",
       "      <td>8.106</td>\n",
       "    </tr>\n",
       "    <tr>\n",
       "      <th>4</th>\n",
       "      <td>1</td>\n",
       "      <td>2010-03-05</td>\n",
       "      <td>1554806.68</td>\n",
       "      <td>0</td>\n",
       "      <td>46.50</td>\n",
       "      <td>2.625</td>\n",
       "      <td>211.350143</td>\n",
       "      <td>8.106</td>\n",
       "    </tr>\n",
       "  </tbody>\n",
       "</table>\n",
       "</div>"
      ],
      "text/plain": [
       "   Store       Date  Weekly_Sales  Holiday_Flag  Temperature  Fuel_Price  \\\n",
       "0      1 2010-02-05    1643690.90             0        42.31       2.572   \n",
       "1      1 2010-02-12    1641957.44             1        38.51       2.548   \n",
       "2      1 2010-02-19    1611968.17             0        39.93       2.514   \n",
       "3      1 2010-02-26    1409727.59             0        46.63       2.561   \n",
       "4      1 2010-03-05    1554806.68             0        46.50       2.625   \n",
       "\n",
       "          CPI  Unemployment  \n",
       "0  211.096358         8.106  \n",
       "1  211.242170         8.106  \n",
       "2  211.289143         8.106  \n",
       "3  211.319643         8.106  \n",
       "4  211.350143         8.106  "
      ]
     },
     "execution_count": 4,
     "metadata": {},
     "output_type": "execute_result"
    }
   ],
   "source": [
    "walmart.head()"
   ]
  },
  {
   "cell_type": "code",
   "execution_count": 5,
   "metadata": {
    "colab": {
     "base_uri": "https://localhost:8080/",
     "height": 0
    },
    "colab_type": "code",
    "id": "rqHmdz8zdeLd",
    "outputId": "78ced1b9-a4fd-43e3-be72-2005405877a2"
   },
   "outputs": [
    {
     "data": {
      "text/plain": [
       "Store           0\n",
       "Date            0\n",
       "Weekly_Sales    0\n",
       "Holiday_Flag    0\n",
       "Temperature     0\n",
       "Fuel_Price      0\n",
       "CPI             0\n",
       "Unemployment    0\n",
       "dtype: int64"
      ]
     },
     "execution_count": 5,
     "metadata": {},
     "output_type": "execute_result"
    }
   ],
   "source": [
    "walmart.isnull().sum()"
   ]
  },
  {
   "cell_type": "code",
   "execution_count": 6,
   "metadata": {
    "colab": {
     "base_uri": "https://localhost:8080/",
     "height": 0
    },
    "colab_type": "code",
    "id": "ux1KsftodjXQ",
    "outputId": "cc7cfd42-3933-42d6-8cdb-9a56452ebe6e"
   },
   "outputs": [
    {
     "data": {
      "text/plain": [
       "Store                    int64\n",
       "Date            datetime64[ns]\n",
       "Weekly_Sales           float64\n",
       "Holiday_Flag             int64\n",
       "Temperature            float64\n",
       "Fuel_Price             float64\n",
       "CPI                    float64\n",
       "Unemployment           float64\n",
       "dtype: object"
      ]
     },
     "execution_count": 6,
     "metadata": {},
     "output_type": "execute_result"
    }
   ],
   "source": [
    "walmart.dtypes"
   ]
  },
  {
   "cell_type": "markdown",
   "metadata": {
    "colab_type": "text",
    "id": "D_uvZf5vWFcd"
   },
   "source": [
    "## Task 1 - Which store has maximum sales"
   ]
  },
  {
   "cell_type": "code",
   "execution_count": 7,
   "metadata": {
    "colab": {
     "base_uri": "https://localhost:8080/",
     "height": 0
    },
    "colab_type": "code",
    "id": "1LCkUznrkMp2",
    "outputId": "7611dc6e-10ed-466e-a111-2c328c9e57a3"
   },
   "outputs": [
    {
     "data": {
      "text/html": [
       "<div>\n",
       "<style scoped>\n",
       "    .dataframe tbody tr th:only-of-type {\n",
       "        vertical-align: middle;\n",
       "    }\n",
       "\n",
       "    .dataframe tbody tr th {\n",
       "        vertical-align: top;\n",
       "    }\n",
       "\n",
       "    .dataframe thead th {\n",
       "        text-align: right;\n",
       "    }\n",
       "</style>\n",
       "<table border=\"1\" class=\"dataframe\">\n",
       "  <thead>\n",
       "    <tr style=\"text-align: right;\">\n",
       "      <th></th>\n",
       "      <th>Store</th>\n",
       "      <th>Weekly_Sales</th>\n",
       "    </tr>\n",
       "  </thead>\n",
       "  <tbody>\n",
       "    <tr>\n",
       "      <th>0</th>\n",
       "      <td>14</td>\n",
       "      <td>3818686.45</td>\n",
       "    </tr>\n",
       "    <tr>\n",
       "      <th>1</th>\n",
       "      <td>20</td>\n",
       "      <td>3766687.43</td>\n",
       "    </tr>\n",
       "    <tr>\n",
       "      <th>2</th>\n",
       "      <td>10</td>\n",
       "      <td>3749057.69</td>\n",
       "    </tr>\n",
       "    <tr>\n",
       "      <th>3</th>\n",
       "      <td>4</td>\n",
       "      <td>3676388.98</td>\n",
       "    </tr>\n",
       "    <tr>\n",
       "      <th>4</th>\n",
       "      <td>13</td>\n",
       "      <td>3595903.20</td>\n",
       "    </tr>\n",
       "  </tbody>\n",
       "</table>\n",
       "</div>"
      ],
      "text/plain": [
       "   Store  Weekly_Sales\n",
       "0     14    3818686.45\n",
       "1     20    3766687.43\n",
       "2     10    3749057.69\n",
       "3      4    3676388.98\n",
       "4     13    3595903.20"
      ]
     },
     "execution_count": 7,
     "metadata": {},
     "output_type": "execute_result"
    }
   ],
   "source": [
    "weekly_sales = pd.DataFrame(walmart.groupby(['Store'])['Weekly_Sales'].max().sort_values(ascending=False)).reset_index()\n",
    "weekly_sales['Weekly_Sales'] = weekly_sales['Weekly_Sales'].astype(float)\n",
    "weekly_sales.head()"
   ]
  },
  {
   "cell_type": "markdown",
   "metadata": {
    "colab_type": "text",
    "id": "S_stmURCbYOs"
   },
   "source": [
    "According to the above table, it would appear that the store 14 has maximum sales at 3818686.45"
   ]
  },
  {
   "cell_type": "markdown",
   "metadata": {
    "colab_type": "text",
    "id": "sripXj36WNkp"
   },
   "source": [
    "## Task 2 - Which store has maximum standard deviation i.e., the sales vary a lot. Also, find out the coefficient of mean to standard deviation"
   ]
  },
  {
   "cell_type": "code",
   "execution_count": 8,
   "metadata": {
    "colab": {
     "base_uri": "https://localhost:8080/",
     "height": 0
    },
    "colab_type": "code",
    "id": "6dAiqydKpl4l",
    "outputId": "a8f25ee3-16e6-41c8-b866-17a7d45f17fe"
   },
   "outputs": [
    {
     "data": {
      "text/html": [
       "<div>\n",
       "<style scoped>\n",
       "    .dataframe tbody tr th:only-of-type {\n",
       "        vertical-align: middle;\n",
       "    }\n",
       "\n",
       "    .dataframe tbody tr th {\n",
       "        vertical-align: top;\n",
       "    }\n",
       "\n",
       "    .dataframe thead th {\n",
       "        text-align: right;\n",
       "    }\n",
       "</style>\n",
       "<table border=\"1\" class=\"dataframe\">\n",
       "  <thead>\n",
       "    <tr style=\"text-align: right;\">\n",
       "      <th></th>\n",
       "      <th>Store</th>\n",
       "      <th>Weekly_Sales</th>\n",
       "    </tr>\n",
       "  </thead>\n",
       "  <tbody>\n",
       "    <tr>\n",
       "      <th>0</th>\n",
       "      <td>14</td>\n",
       "      <td>317569.95</td>\n",
       "    </tr>\n",
       "    <tr>\n",
       "      <th>1</th>\n",
       "      <td>10</td>\n",
       "      <td>302262.06</td>\n",
       "    </tr>\n",
       "    <tr>\n",
       "      <th>2</th>\n",
       "      <td>20</td>\n",
       "      <td>275900.56</td>\n",
       "    </tr>\n",
       "    <tr>\n",
       "      <th>3</th>\n",
       "      <td>4</td>\n",
       "      <td>266201.44</td>\n",
       "    </tr>\n",
       "    <tr>\n",
       "      <th>4</th>\n",
       "      <td>13</td>\n",
       "      <td>265507.00</td>\n",
       "    </tr>\n",
       "  </tbody>\n",
       "</table>\n",
       "</div>"
      ],
      "text/plain": [
       "   Store  Weekly_Sales\n",
       "0     14     317569.95\n",
       "1     10     302262.06\n",
       "2     20     275900.56\n",
       "3      4     266201.44\n",
       "4     13     265507.00"
      ]
     },
     "execution_count": 8,
     "metadata": {},
     "output_type": "execute_result"
    }
   ],
   "source": [
    "weekly_sales = pd.DataFrame(walmart.groupby(['Store'])['Weekly_Sales'].std().sort_values(ascending=False)).reset_index()\n",
    "weekly_sales['Weekly_Sales'] = round(weekly_sales['Weekly_Sales'].astype(float),2)\n",
    "weekly_sales.head()"
   ]
  },
  {
   "cell_type": "markdown",
   "metadata": {
    "colab_type": "text",
    "id": "FdxWKRrbb-xY"
   },
   "source": [
    "According to the above table, it would appear that the store 14 has maximum standard deviation of sales at 317569.95"
   ]
  },
  {
   "cell_type": "code",
   "execution_count": 9,
   "metadata": {
    "colab": {
     "base_uri": "https://localhost:8080/",
     "height": 0
    },
    "colab_type": "code",
    "id": "Bkv2evD5cZLE",
    "outputId": "57c8eec1-1b67-4cae-965f-81bc43860bf8"
   },
   "outputs": [
    {
     "name": "stdout",
     "output_type": "stream",
     "text": [
      "Mean = 1046964.88\n",
      "Standard Deviation = 564366.62\n",
      "Coefficient of Variation = 53.9\n"
     ]
    }
   ],
   "source": [
    "print(\"Mean = {}\\nStandard Deviation = {}\\nCoefficient of Variation = {}\".format(round(walmart['Weekly_Sales'].mean(),2),round(walmart['Weekly_Sales'].std(),2),round(variation(walmart['Weekly_Sales'])*100,2)))"
   ]
  },
  {
   "cell_type": "markdown",
   "metadata": {
    "colab_type": "text",
    "id": "qqb_hwEBiEoS"
   },
   "source": [
    "The Coefficient of Variation was found to be 53.90"
   ]
  },
  {
   "cell_type": "markdown",
   "metadata": {
    "colab_type": "text",
    "id": "PDMzoYpIWQ-v"
   },
   "source": [
    "## Task 3 - Which stores have good quarterly growth rate in Q3’2012 "
   ]
  },
  {
   "cell_type": "code",
   "execution_count": 10,
   "metadata": {
    "colab": {
     "base_uri": "https://localhost:8080/",
     "height": 0
    },
    "colab_type": "code",
    "id": "RbcV7OAcvxAg",
    "outputId": "c58ea974-198b-46b7-da43-0972ad19c15b"
   },
   "outputs": [
    {
     "name": "stderr",
     "output_type": "stream",
     "text": [
      "<ipython-input-10-7e34f7372c4e>:5: FutureWarning: Indexing with multiple keys (implicitly converted to a tuple of keys) will be deprecated, use a list instead.\n",
      "  walmart_growth = pd.DataFrame(walmart.groupby(['Store','Quarter','Year'])['Weekly_Sales','Growth'].sum().sort_values(ascending=True,by='Growth')).reset_index()\n"
     ]
    },
    {
     "data": {
      "text/html": [
       "<div>\n",
       "<style scoped>\n",
       "    .dataframe tbody tr th:only-of-type {\n",
       "        vertical-align: middle;\n",
       "    }\n",
       "\n",
       "    .dataframe tbody tr th {\n",
       "        vertical-align: top;\n",
       "    }\n",
       "\n",
       "    .dataframe thead th {\n",
       "        text-align: right;\n",
       "    }\n",
       "</style>\n",
       "<table border=\"1\" class=\"dataframe\">\n",
       "  <thead>\n",
       "    <tr style=\"text-align: right;\">\n",
       "      <th></th>\n",
       "      <th>Store</th>\n",
       "      <th>Quarter</th>\n",
       "      <th>Year</th>\n",
       "      <th>Weekly_Sales</th>\n",
       "      <th>Growth</th>\n",
       "    </tr>\n",
       "  </thead>\n",
       "  <tbody>\n",
       "    <tr>\n",
       "      <th>19</th>\n",
       "      <td>7</td>\n",
       "      <td>3</td>\n",
       "      <td>2012</td>\n",
       "      <td>8262787.39</td>\n",
       "      <td>-0.264080</td>\n",
       "    </tr>\n",
       "    <tr>\n",
       "      <th>36</th>\n",
       "      <td>16</td>\n",
       "      <td>3</td>\n",
       "      <td>2012</td>\n",
       "      <td>7121541.64</td>\n",
       "      <td>-0.166426</td>\n",
       "    </tr>\n",
       "    <tr>\n",
       "      <th>39</th>\n",
       "      <td>6</td>\n",
       "      <td>3</td>\n",
       "      <td>2012</td>\n",
       "      <td>20167312.24</td>\n",
       "      <td>-0.144897</td>\n",
       "    </tr>\n",
       "    <tr>\n",
       "      <th>46</th>\n",
       "      <td>27</td>\n",
       "      <td>3</td>\n",
       "      <td>2012</td>\n",
       "      <td>22307711.41</td>\n",
       "      <td>-0.136554</td>\n",
       "    </tr>\n",
       "    <tr>\n",
       "      <th>58</th>\n",
       "      <td>15</td>\n",
       "      <td>3</td>\n",
       "      <td>2012</td>\n",
       "      <td>7612081.03</td>\n",
       "      <td>-0.097343</td>\n",
       "    </tr>\n",
       "  </tbody>\n",
       "</table>\n",
       "</div>"
      ],
      "text/plain": [
       "    Store  Quarter  Year  Weekly_Sales    Growth\n",
       "19      7        3  2012    8262787.39 -0.264080\n",
       "36     16        3  2012    7121541.64 -0.166426\n",
       "39      6        3  2012   20167312.24 -0.144897\n",
       "46     27        3  2012   22307711.41 -0.136554\n",
       "58     15        3  2012    7612081.03 -0.097343"
      ]
     },
     "execution_count": 10,
     "metadata": {},
     "output_type": "execute_result"
    }
   ],
   "source": [
    "walmart['Quarter'] = walmart['Date'].dt.quarter\n",
    "walmart['Year'] = walmart['Date'].dt.year\n",
    "walmart_sort = walmart.sort_values(by=['Store','Date'])\n",
    "walmart['Growth'] = pd.DataFrame.pct_change(walmart_sort['Weekly_Sales'])\n",
    "walmart_growth = pd.DataFrame(walmart.groupby(['Store','Quarter','Year'])['Weekly_Sales','Growth'].sum().sort_values(ascending=True,by='Growth')).reset_index()\n",
    "qtr_growth_2012 = walmart_growth[walmart_growth['Year']==2012]\n",
    "qtr_growth_2012_q3 = qtr_growth_2012[qtr_growth_2012['Quarter']==3]\n",
    "qtr_growth_2012_q3.head()"
   ]
  },
  {
   "cell_type": "markdown",
   "metadata": {
    "colab_type": "text",
    "id": "r1zCWvhl7j3V"
   },
   "source": [
    "According to the above table, it would appear that store 7 has a good quarterly growth in Q3’2012"
   ]
  },
  {
   "cell_type": "markdown",
   "metadata": {
    "colab_type": "text",
    "id": "dCnT1fGSWTJP"
   },
   "source": [
    "## Task 4 - Some holidays have a negative impact on sales. Find out holidays which have higher sales than the mean sales in non-holiday season for all stores together"
   ]
  },
  {
   "cell_type": "code",
   "execution_count": 11,
   "metadata": {
    "colab": {
     "base_uri": "https://localhost:8080/",
     "height": 0
    },
    "colab_type": "code",
    "id": "_YcFQCLZ74TK",
    "outputId": "f872dde2-7b46-4926-fb15-81a5e374e9ff"
   },
   "outputs": [
    {
     "data": {
      "text/html": [
       "<div>\n",
       "<style scoped>\n",
       "    .dataframe tbody tr th:only-of-type {\n",
       "        vertical-align: middle;\n",
       "    }\n",
       "\n",
       "    .dataframe tbody tr th {\n",
       "        vertical-align: top;\n",
       "    }\n",
       "\n",
       "    .dataframe thead th {\n",
       "        text-align: right;\n",
       "    }\n",
       "</style>\n",
       "<table border=\"1\" class=\"dataframe\">\n",
       "  <thead>\n",
       "    <tr style=\"text-align: right;\">\n",
       "      <th></th>\n",
       "      <th>Store</th>\n",
       "      <th>Date</th>\n",
       "      <th>Weekly_Sales</th>\n",
       "      <th>Month</th>\n",
       "    </tr>\n",
       "  </thead>\n",
       "  <tbody>\n",
       "    <tr>\n",
       "      <th>0</th>\n",
       "      <td>1</td>\n",
       "      <td>2010-02-12</td>\n",
       "      <td>1641957.44</td>\n",
       "      <td>2</td>\n",
       "    </tr>\n",
       "    <tr>\n",
       "      <th>1</th>\n",
       "      <td>1</td>\n",
       "      <td>2010-09-10</td>\n",
       "      <td>1507460.69</td>\n",
       "      <td>9</td>\n",
       "    </tr>\n",
       "    <tr>\n",
       "      <th>2</th>\n",
       "      <td>1</td>\n",
       "      <td>2010-11-26</td>\n",
       "      <td>1955624.11</td>\n",
       "      <td>11</td>\n",
       "    </tr>\n",
       "    <tr>\n",
       "      <th>3</th>\n",
       "      <td>1</td>\n",
       "      <td>2010-12-31</td>\n",
       "      <td>1367320.01</td>\n",
       "      <td>12</td>\n",
       "    </tr>\n",
       "    <tr>\n",
       "      <th>4</th>\n",
       "      <td>1</td>\n",
       "      <td>2011-02-11</td>\n",
       "      <td>1649614.93</td>\n",
       "      <td>2</td>\n",
       "    </tr>\n",
       "  </tbody>\n",
       "</table>\n",
       "</div>"
      ],
      "text/plain": [
       "   Store       Date  Weekly_Sales  Month\n",
       "0      1 2010-02-12    1641957.44      2\n",
       "1      1 2010-09-10    1507460.69      9\n",
       "2      1 2010-11-26    1955624.11     11\n",
       "3      1 2010-12-31    1367320.01     12\n",
       "4      1 2011-02-11    1649614.93      2"
      ]
     },
     "execution_count": 11,
     "metadata": {},
     "output_type": "execute_result"
    }
   ],
   "source": [
    "walmart_holiday = walmart[walmart['Holiday_Flag']==1].reset_index()\n",
    "walmart_holiday = walmart_holiday[['Store','Date','Weekly_Sales']]\n",
    "walmart_holiday['Month'] = walmart_holiday['Date'].dt.month\n",
    "walmart_holiday.head()"
   ]
  },
  {
   "cell_type": "code",
   "execution_count": 12,
   "metadata": {
    "colab": {
     "base_uri": "https://localhost:8080/",
     "height": 0
    },
    "colab_type": "code",
    "id": "zVpfluP19DVd",
    "outputId": "23ad0e4b-7ba0-470a-9419-083cedb06adc"
   },
   "outputs": [
    {
     "name": "stdout",
     "output_type": "stream",
     "text": [
      "The mean sales in non-holiday season for all stores together was found to be 1041256.38\n"
     ]
    }
   ],
   "source": [
    "walmart_non_holiday = walmart[walmart['Holiday_Flag']==0].reset_index()\n",
    "walmart_non_holiday = walmart_non_holiday[['Store','Date','Weekly_Sales']]\n",
    "walmart_non_holiday_mean = round(walmart_non_holiday['Weekly_Sales'].mean(),2)\n",
    "print(\"The mean sales in non-holiday season for all stores together was found to be\",walmart_non_holiday_mean)"
   ]
  },
  {
   "cell_type": "code",
   "execution_count": 13,
   "metadata": {
    "colab": {
     "base_uri": "https://localhost:8080/",
     "height": 0
    },
    "colab_type": "code",
    "id": "APRpuiVuC-uC",
    "outputId": "fbb0996e-9ed0-4809-940b-960c14eba2ef"
   },
   "outputs": [
    {
     "data": {
      "text/plain": [
       "2011-11-25    31\n",
       "2010-11-26    30\n",
       "2012-09-07    22\n",
       "2012-02-10    22\n",
       "2010-02-12    21\n",
       "2011-09-09    20\n",
       "2011-02-11    20\n",
       "2010-09-10    19\n",
       "2011-12-30    19\n",
       "2010-12-31    16\n",
       "Name: Date, dtype: int64"
      ]
     },
     "execution_count": 13,
     "metadata": {},
     "output_type": "execute_result"
    }
   ],
   "source": [
    "walmart_sales_gt_mean = walmart_holiday[walmart_holiday['Weekly_Sales']>walmart_non_holiday_mean]\n",
    "walmart_sales_gt_mean['Date'].value_counts()"
   ]
  },
  {
   "cell_type": "code",
   "execution_count": 14,
   "metadata": {
    "colab": {
     "base_uri": "https://localhost:8080/",
     "height": 0
    },
    "colab_type": "code",
    "id": "-HtnjnBaEYck",
    "outputId": "014da149-a000-4335-cbdb-4d0b2191c11e"
   },
   "outputs": [
    {
     "data": {
      "text/html": [
       "<div>\n",
       "<style scoped>\n",
       "    .dataframe tbody tr th:only-of-type {\n",
       "        vertical-align: middle;\n",
       "    }\n",
       "\n",
       "    .dataframe tbody tr th {\n",
       "        vertical-align: top;\n",
       "    }\n",
       "\n",
       "    .dataframe thead th {\n",
       "        text-align: right;\n",
       "    }\n",
       "</style>\n",
       "<table border=\"1\" class=\"dataframe\">\n",
       "  <thead>\n",
       "    <tr style=\"text-align: right;\">\n",
       "      <th></th>\n",
       "      <th>Event</th>\n",
       "      <th>Store</th>\n",
       "      <th>Weekly_Sales</th>\n",
       "    </tr>\n",
       "  </thead>\n",
       "  <tbody>\n",
       "    <tr>\n",
       "      <th>0</th>\n",
       "      <td>Christmas</td>\n",
       "      <td>1</td>\n",
       "      <td>2864782.73</td>\n",
       "    </tr>\n",
       "    <tr>\n",
       "      <th>1</th>\n",
       "      <td>Christmas</td>\n",
       "      <td>2</td>\n",
       "      <td>3624661.07</td>\n",
       "    </tr>\n",
       "    <tr>\n",
       "      <th>2</th>\n",
       "      <td>Christmas</td>\n",
       "      <td>4</td>\n",
       "      <td>3801974.60</td>\n",
       "    </tr>\n",
       "    <tr>\n",
       "      <th>3</th>\n",
       "      <td>Christmas</td>\n",
       "      <td>6</td>\n",
       "      <td>3062130.54</td>\n",
       "    </tr>\n",
       "    <tr>\n",
       "      <th>4</th>\n",
       "      <td>Christmas</td>\n",
       "      <td>10</td>\n",
       "      <td>3637988.51</td>\n",
       "    </tr>\n",
       "  </tbody>\n",
       "</table>\n",
       "</div>"
      ],
      "text/plain": [
       "       Event  Store  Weekly_Sales\n",
       "0  Christmas      1    2864782.73\n",
       "1  Christmas      2    3624661.07\n",
       "2  Christmas      4    3801974.60\n",
       "3  Christmas      6    3062130.54\n",
       "4  Christmas     10    3637988.51"
      ]
     },
     "execution_count": 14,
     "metadata": {},
     "output_type": "execute_result"
    }
   ],
   "source": [
    "Event = {2:'Super Bowl',9:'Labour Day',11:'Thanksgiving',12:'Christmas'}\n",
    "walmart_sales_gt_mean = walmart_sales_gt_mean.replace({'Month': Event})\n",
    "walmart_sales_gt_mean.rename(columns={'Month':'Event'}, inplace = True)\n",
    "walmart_sales_eventwise = pd.DataFrame(walmart_sales_gt_mean.groupby(['Event','Store'])['Weekly_Sales'].sum().reset_index())\n",
    "walmart_sales_eventwise.head()"
   ]
  },
  {
   "cell_type": "code",
   "execution_count": 15,
   "metadata": {
    "colab": {
     "base_uri": "https://localhost:8080/",
     "height": 0
    },
    "colab_type": "code",
    "id": "JhanIMEuUPb7",
    "outputId": "2f455c18-5edf-41eb-9419-c8cb6b24538c"
   },
   "outputs": [
    {
     "data": {
      "image/png": "[encoded data removed]",
      "text/plain": [
       "<Figure size 1080x432 with 1 Axes>"
      ]
     },
     "metadata": {
      "needs_background": "light"
     },
     "output_type": "display_data"
    }
   ],
   "source": [
    "superbowl = walmart_sales_eventwise[walmart_sales_eventwise['Event']=='Super Bowl'].set_index(['Store'])\n",
    "superbowl.plot(kind='bar',figsize=(15,6),title='Comparison of Sales in Stores During The Super Bowl')\n",
    "plt.axhline(y=superbowl['Weekly_Sales'].max(),linewidth=1, color='green')\n",
    "plt.axhline(y=superbowl['Weekly_Sales'].min(),linewidth=1, color='red')\n",
    "plt.show()"
   ]
  },
  {
   "cell_type": "markdown",
   "metadata": {
    "colab_type": "text",
    "id": "5AbJrnhkXzJx"
   },
   "source": [
    "From the figure above, store 20 seems to have maximum sales during The Super Bowl, while store 34 seems to have minimum sales."
   ]
  },
  {
   "cell_type": "code",
   "execution_count": 16,
   "metadata": {
    "colab": {
     "base_uri": "https://localhost:8080/",
     "height": 0
    },
    "colab_type": "code",
    "id": "12eqKdLVT8mL",
    "outputId": "0947c6be-0601-47f6-fe3e-4fa50e348599"
   },
   "outputs": [
    {
     "data": {
      "image/png": "[encoded data removed]",
      "text/plain": [
       "<Figure size 1080x432 with 1 Axes>"
      ]
     },
     "metadata": {
      "needs_background": "light"
     },
     "output_type": "display_data"
    }
   ],
   "source": [
    "labourday = walmart_sales_eventwise[walmart_sales_eventwise['Event']=='Labour Day'].set_index(['Store'])\n",
    "labourday.plot(kind='bar',figsize=(15,6),title='Comparison of Sales in Stores During Labour Day')\n",
    "plt.axhline(y=labourday['Weekly_Sales'].max(),linewidth=1, color='green')\n",
    "plt.axhline(y=labourday['Weekly_Sales'].min(),linewidth=1, color='red')\n",
    "plt.show()"
   ]
  },
  {
   "cell_type": "markdown",
   "metadata": {
    "colab_type": "text",
    "id": "FndAFRxQYJ9U"
   },
   "source": [
    "From the figure above, store 14 seems to have maximum sales during Labour Day, while store 18 seems to have minimum sales."
   ]
  },
  {
   "cell_type": "code",
   "execution_count": 17,
   "metadata": {
    "colab": {
     "base_uri": "https://localhost:8080/",
     "height": 0
    },
    "colab_type": "code",
    "id": "07qxbF7xUAiT",
    "outputId": "ba3805a1-9f54-4e00-8c0d-74bc2856626d"
   },
   "outputs": [
    {
     "data": {
      "image/png": "[encoded data removed]",
      "text/plain": [
       "<Figure size 1080x432 with 1 Axes>"
      ]
     },
     "metadata": {
      "needs_background": "light"
     },
     "output_type": "display_data"
    }
   ],
   "source": [
    "thanksgiving = walmart_sales_eventwise[walmart_sales_eventwise['Event']=='Thanksgiving'].set_index(['Store'])\n",
    "thanksgiving.plot(kind='bar',figsize=(15,6),title='Comparison of Sales in Stores During Thanksgiving')\n",
    "plt.axhline(y=thanksgiving['Weekly_Sales'].max(),linewidth=1, color='green')\n",
    "plt.axhline(y=thanksgiving['Weekly_Sales'].min(),linewidth=1, color='red')\n",
    "plt.show()"
   ]
  },
  {
   "cell_type": "markdown",
   "metadata": {
    "colab_type": "text",
    "id": "2-ReMd62YUqX"
   },
   "source": [
    "From the figure above, store 10 seems to have maximum sales during Thanksgiving, while store 17 seems to have minimum sales."
   ]
  },
  {
   "cell_type": "code",
   "execution_count": 18,
   "metadata": {
    "colab": {
     "base_uri": "https://localhost:8080/",
     "height": 0
    },
    "colab_type": "code",
    "id": "FSjpX490UC7f",
    "outputId": "1b79234d-83cc-4791-d917-f485e0181516"
   },
   "outputs": [
    {
     "data": {
      "image/png": "[encoded data removed]",
      "text/plain": [
       "<Figure size 1080x432 with 1 Axes>"
      ]
     },
     "metadata": {
      "needs_background": "light"
     },
     "output_type": "display_data"
    }
   ],
   "source": [
    "christmas = walmart_sales_eventwise[walmart_sales_eventwise['Event']=='Christmas'].set_index(['Store'])\n",
    "christmas.plot(kind='bar',figsize=(15,6),title='Comparison of Sales in Stores During Christmas')\n",
    "plt.axhline(y=christmas['Weekly_Sales'].max(),linewidth=1, color='green')\n",
    "plt.axhline(y=christmas['Weekly_Sales'].min(),linewidth=1, color='red')\n",
    "plt.show()"
   ]
  },
  {
   "cell_type": "markdown",
   "metadata": {
    "colab_type": "text",
    "id": "4rs_gqj9YeXY"
   },
   "source": [
    "From the figure above, store 20 seems to have maximum sales during Christmas, while store 32 seems to have minimum sales."
   ]
  },
  {
   "cell_type": "markdown",
   "metadata": {
    "colab_type": "text",
    "id": "fB37DRCHWV6A"
   },
   "source": [
    "## Task 5 - Provide a monthly and semester view of sales in units and give insights"
   ]
  },
  {
   "cell_type": "code",
   "execution_count": 19,
   "metadata": {
    "colab": {
     "base_uri": "https://localhost:8080/",
     "height": 0
    },
    "colab_type": "code",
    "id": "p7vXlBblqWsG",
    "outputId": "f035b925-d108-4c57-a6ff-f8c2897a88fa"
   },
   "outputs": [
    {
     "name": "stderr",
     "output_type": "stream",
     "text": [
      "c:\\users\\jude\\appdata\\local\\programs\\python\\python39\\lib\\site-packages\\pandas\\core\\generic.py:5491: SettingWithCopyWarning: \n",
      "A value is trying to be set on a copy of a slice from a DataFrame.\n",
      "Try using .loc[row_indexer,col_indexer] = value instead\n",
      "\n",
      "See the caveats in the documentation: https://pandas.pydata.org/pandas-docs/stable/user_guide/indexing.html#returning-a-view-versus-a-copy\n",
      "  self[name] = value\n"
     ]
    },
    {
     "data": {
      "image/png": "[encoded data removed]",
      "text/plain": [
       "<Figure size 1080x432 with 1 Axes>"
      ]
     },
     "metadata": {
      "needs_background": "light"
     },
     "output_type": "display_data"
    }
   ],
   "source": [
    "walmart_sales=walmart[['Date','Weekly_Sales']]\n",
    "walmart_sales.Date = pd.to_datetime(walmart_sales.Date)\n",
    "walmart_sales.set_index('Date', inplace=True)\n",
    "walmart_sales.resample('MS').sum().plot(figsize=(15,6),title='Monthly View of Sales')\n",
    "plt.show()"
   ]
  },
  {
   "cell_type": "markdown",
   "metadata": {
    "colab_type": "text",
    "id": "0GP7Z_ugs7W4"
   },
   "source": [
    "From the above graph, it would appear that the sales increased and decreased alternately but irregularly, with peaks in December and valleys in January."
   ]
  },
  {
   "cell_type": "code",
   "execution_count": 20,
   "metadata": {
    "colab": {
     "base_uri": "https://localhost:8080/",
     "height": 0
    },
    "colab_type": "code",
    "id": "8z5TyWP3pmr9",
    "outputId": "52594b65-e8ce-45d9-e82e-2eff8eb508be"
   },
   "outputs": [
    {
     "name": "stderr",
     "output_type": "stream",
     "text": [
      "c:\\users\\jude\\appdata\\local\\programs\\python\\python39\\lib\\site-packages\\pandas\\core\\generic.py:5491: SettingWithCopyWarning: \n",
      "A value is trying to be set on a copy of a slice from a DataFrame.\n",
      "Try using .loc[row_indexer,col_indexer] = value instead\n",
      "\n",
      "See the caveats in the documentation: https://pandas.pydata.org/pandas-docs/stable/user_guide/indexing.html#returning-a-view-versus-a-copy\n",
      "  self[name] = value\n"
     ]
    },
    {
     "data": {
      "image/png": "[encoded data removed]",
      "text/plain": [
       "<Figure size 1080x432 with 1 Axes>"
      ]
     },
     "metadata": {
      "needs_background": "light"
     },
     "output_type": "display_data"
    }
   ],
   "source": [
    "walmart_sales=walmart[['Date','Weekly_Sales']]\n",
    "walmart_sales.Date = pd.to_datetime(walmart_sales.Date)\n",
    "walmart_sales.set_index('Date', inplace=True)\n",
    "walmart_sales.resample('2Q',closed='left').sum().plot(figsize=(15,6),title='Semester View of Sales')#QS\n",
    "plt.show()"
   ]
  },
  {
   "cell_type": "markdown",
   "metadata": {
    "colab_type": "text",
    "id": "_zd67RXitAOD"
   },
   "source": [
    "From the above graph, it would appear that the sales increased and decreased alternately, with peaks in July in 2010 & 2011. The sales hit a valley in January 2011 & July 2012."
   ]
  },
  {
   "cell_type": "markdown",
   "metadata": {
    "colab_type": "text",
    "id": "oi7LEFeLWYsD"
   },
   "source": [
    "## Task 6 - Statistical Model For Store 1 – Build prediction models to forecast demand"
   ]
  },
  {
   "cell_type": "code",
   "execution_count": 21,
   "metadata": {
    "colab": {
     "base_uri": "https://localhost:8080/",
     "height": 0
    },
    "colab_type": "code",
    "id": "RegvTgURtzB0",
    "outputId": "06155440-aa5e-4f75-b46d-49ebec25fd8c"
   },
   "outputs": [
    {
     "data": {
      "text/html": [
       "<div>\n",
       "<style scoped>\n",
       "    .dataframe tbody tr th:only-of-type {\n",
       "        vertical-align: middle;\n",
       "    }\n",
       "\n",
       "    .dataframe tbody tr th {\n",
       "        vertical-align: top;\n",
       "    }\n",
       "\n",
       "    .dataframe thead th {\n",
       "        text-align: right;\n",
       "    }\n",
       "</style>\n",
       "<table border=\"1\" class=\"dataframe\">\n",
       "  <thead>\n",
       "    <tr style=\"text-align: right;\">\n",
       "      <th></th>\n",
       "      <th>Store</th>\n",
       "      <th>Date</th>\n",
       "      <th>Weekly_Sales</th>\n",
       "      <th>Holiday_Flag</th>\n",
       "      <th>Temperature</th>\n",
       "      <th>Fuel_Price</th>\n",
       "      <th>CPI</th>\n",
       "      <th>Unemployment</th>\n",
       "    </tr>\n",
       "  </thead>\n",
       "  <tbody>\n",
       "    <tr>\n",
       "      <th>0</th>\n",
       "      <td>1</td>\n",
       "      <td>2010-02-05</td>\n",
       "      <td>1643690.90</td>\n",
       "      <td>0</td>\n",
       "      <td>42.31</td>\n",
       "      <td>2.572</td>\n",
       "      <td>211.096358</td>\n",
       "      <td>8.106</td>\n",
       "    </tr>\n",
       "    <tr>\n",
       "      <th>1</th>\n",
       "      <td>1</td>\n",
       "      <td>2010-02-12</td>\n",
       "      <td>1641957.44</td>\n",
       "      <td>1</td>\n",
       "      <td>38.51</td>\n",
       "      <td>2.548</td>\n",
       "      <td>211.242170</td>\n",
       "      <td>8.106</td>\n",
       "    </tr>\n",
       "    <tr>\n",
       "      <th>2</th>\n",
       "      <td>1</td>\n",
       "      <td>2010-02-19</td>\n",
       "      <td>1611968.17</td>\n",
       "      <td>0</td>\n",
       "      <td>39.93</td>\n",
       "      <td>2.514</td>\n",
       "      <td>211.289143</td>\n",
       "      <td>8.106</td>\n",
       "    </tr>\n",
       "    <tr>\n",
       "      <th>3</th>\n",
       "      <td>1</td>\n",
       "      <td>2010-02-26</td>\n",
       "      <td>1409727.59</td>\n",
       "      <td>0</td>\n",
       "      <td>46.63</td>\n",
       "      <td>2.561</td>\n",
       "      <td>211.319643</td>\n",
       "      <td>8.106</td>\n",
       "    </tr>\n",
       "    <tr>\n",
       "      <th>4</th>\n",
       "      <td>1</td>\n",
       "      <td>2010-03-05</td>\n",
       "      <td>1554806.68</td>\n",
       "      <td>0</td>\n",
       "      <td>46.50</td>\n",
       "      <td>2.625</td>\n",
       "      <td>211.350143</td>\n",
       "      <td>8.106</td>\n",
       "    </tr>\n",
       "  </tbody>\n",
       "</table>\n",
       "</div>"
      ],
      "text/plain": [
       "   Store       Date  Weekly_Sales  Holiday_Flag  Temperature  Fuel_Price  \\\n",
       "0      1 2010-02-05    1643690.90             0        42.31       2.572   \n",
       "1      1 2010-02-12    1641957.44             1        38.51       2.548   \n",
       "2      1 2010-02-19    1611968.17             0        39.93       2.514   \n",
       "3      1 2010-02-26    1409727.59             0        46.63       2.561   \n",
       "4      1 2010-03-05    1554806.68             0        46.50       2.625   \n",
       "\n",
       "          CPI  Unemployment  \n",
       "0  211.096358         8.106  \n",
       "1  211.242170         8.106  \n",
       "2  211.289143         8.106  \n",
       "3  211.319643         8.106  \n",
       "4  211.350143         8.106  "
      ]
     },
     "execution_count": 21,
     "metadata": {},
     "output_type": "execute_result"
    }
   ],
   "source": [
    "walmart_first = walmart[walmart['Store']==1].drop(['Quarter','Year','Growth'],axis=1)\n",
    "walmart_first.head()"
   ]
  },
  {
   "cell_type": "code",
   "execution_count": 22,
   "metadata": {
    "colab": {
     "base_uri": "https://localhost:8080/",
     "height": 0
    },
    "colab_type": "code",
    "id": "RBeq7cxSvHKU",
    "outputId": "b07804d2-c892-4d31-e23e-c8100dc1efa5"
   },
   "outputs": [
    {
     "data": {
      "text/plain": [
       "1    143\n",
       "Name: Store, dtype: int64"
      ]
     },
     "execution_count": 22,
     "metadata": {},
     "output_type": "execute_result"
    }
   ],
   "source": [
    "walmart_first['Store'].value_counts()"
   ]
  },
  {
   "cell_type": "markdown",
   "metadata": {
    "colab_type": "text",
    "id": "pFrwC98dWbCn"
   },
   "source": [
    "### Task 6 Subtask 1 - Linear Regression – Utilize variables like date and restructure dates as 1 for 5 Feb 2010 (starting from the earliest date in order)."
   ]
  },
  {
   "cell_type": "code",
   "execution_count": 23,
   "metadata": {
    "colab": {
     "base_uri": "https://localhost:8080/",
     "height": 0
    },
    "colab_type": "code",
    "id": "aL4x28F8vLFW",
    "outputId": "8e74fc9d-51ee-4488-f373-d6e3ed919644"
   },
   "outputs": [
    {
     "data": {
      "text/plain": [
       "array([  0,   1,   2,   3,   4,   5,   6,   7,   8,   9,  10,  11,  12,\n",
       "        13,  14,  15,  16,  17,  18,  19,  20,  21,  22,  23,  24,  25,\n",
       "        26,  27,  28,  29,  30,  31,  32,  33,  34,  35,  36,  37,  38,\n",
       "        39,  40,  41,  42,  43,  44,  45,  46,  47,  48,  49,  50,  51,\n",
       "        52,  53,  54,  55,  56,  57,  58,  59,  60,  61,  62,  63,  64,\n",
       "        65,  66,  67,  68,  69,  70,  71,  72,  73,  74,  75,  76,  77,\n",
       "        78,  79,  80,  81,  82,  83,  84,  85,  86,  87,  88,  89,  90,\n",
       "        91,  92,  93,  94,  95,  96,  97,  98,  99, 100, 101, 102, 103,\n",
       "       104, 105, 106, 107, 108, 109, 110, 111, 112, 113, 114, 115, 116,\n",
       "       117, 118, 119, 120, 121, 122, 123, 124, 125, 126, 127, 128, 129,\n",
       "       130, 131, 132, 133, 134, 135, 136, 137, 138, 139, 140, 141, 142],\n",
       "      dtype=int64)"
      ]
     },
     "execution_count": 23,
     "metadata": {},
     "output_type": "execute_result"
    }
   ],
   "source": [
    "label_encoder = preprocessing.LabelEncoder()\n",
    "walmart_first['Date'] = label_encoder.fit_transform(walmart_first['Date']) \n",
    "walmart_first['Date'].unique()"
   ]
  },
  {
   "cell_type": "code",
   "execution_count": 24,
   "metadata": {
    "colab": {
     "base_uri": "https://localhost:8080/",
     "height": 0
    },
    "colab_type": "code",
    "id": "ySHqi-8b1y9w",
    "outputId": "97ac3def-8cfe-451e-d293-798c0da6f86e"
   },
   "outputs": [
    {
     "data": {
      "image/png": "[encoded data removed]",
      "text/plain": [
       "<Figure size 432x288 with 2 Axes>"
      ]
     },
     "metadata": {
      "needs_background": "light"
     },
     "output_type": "display_data"
    }
   ],
   "source": [
    "sns.heatmap(walmart_first.corr(),vmax=2,center=0,square=True,linewidths=.5)\n",
    "plt.show()"
   ]
  },
  {
   "cell_type": "markdown",
   "metadata": {
    "colab_type": "text",
    "id": "5ebXRqTfWgKI"
   },
   "source": [
    "### Task 6 Subtask 2 - Hypothesize if CPI, unemployment, and fuel price have any impact on sales. One Way ANOVA\n",
    "1. Null Hypothesis : CPI, unemployment, and fuel price have no impact on sales\n",
    "2. Alternate Hypothesis : CPI, unemployment, and fuel price have an impact on sales"
   ]
  },
  {
   "cell_type": "code",
   "execution_count": 25,
   "metadata": {
    "colab": {
     "base_uri": "https://localhost:8080/",
     "height": 0
    },
    "colab_type": "code",
    "id": "W2O1dEDyxxnU",
    "outputId": "d1f142a5-3ad3-49c1-e72d-bec6ea6dfb1a"
   },
   "outputs": [
    {
     "data": {
      "text/plain": [
       "<AxesSubplot:>"
      ]
     },
     "execution_count": 25,
     "metadata": {},
     "output_type": "execute_result"
    },
    {
     "data": {
      "image/png": "[encoded data removed]",
      "text/plain": [
       "<Figure size 1080x432 with 1 Axes>"
      ]
     },
     "metadata": {
      "needs_background": "light"
     },
     "output_type": "display_data"
    }
   ],
   "source": [
    "walmart_first.boxplot(column=['CPI','Unemployment','Fuel_Price','Weekly_Sales'],figsize=(15,6),grid=False)"
   ]
  },
  {
   "cell_type": "code",
   "execution_count": 26,
   "metadata": {
    "colab": {
     "base_uri": "https://localhost:8080/",
     "height": 0
    },
    "colab_type": "code",
    "id": "sLGwcz4-wd7k",
    "outputId": "1fc2dbf3-6e29-4976-ca1d-caaef4054553"
   },
   "outputs": [
    {
     "name": "stdout",
     "output_type": "stream",
     "text": [
      "F-value = 14215.435538539019\n",
      "p-value = 0.0\n"
     ]
    }
   ],
   "source": [
    "f_value,p_value = stats.f_oneway(walmart_first['CPI'],walmart_first['Unemployment'],walmart_first['Fuel_Price'],walmart_first['Weekly_Sales'])\n",
    "print(\"F-value = {}\\np-value = {}\".format(f_value,p_value))"
   ]
  },
  {
   "cell_type": "code",
   "execution_count": 27,
   "metadata": {
    "colab": {
     "base_uri": "https://localhost:8080/",
     "height": 0
    },
    "colab_type": "code",
    "id": "M_tzeQ3WzgYv",
    "outputId": "fe21ac31-30e7-4e84-fc87-7c5dc6ac332d"
   },
   "outputs": [
    {
     "data": {
      "text/html": [
       "<div>\n",
       "<style scoped>\n",
       "    .dataframe tbody tr th:only-of-type {\n",
       "        vertical-align: middle;\n",
       "    }\n",
       "\n",
       "    .dataframe tbody tr th {\n",
       "        vertical-align: top;\n",
       "    }\n",
       "\n",
       "    .dataframe thead th {\n",
       "        text-align: right;\n",
       "    }\n",
       "</style>\n",
       "<table border=\"1\" class=\"dataframe\">\n",
       "  <thead>\n",
       "    <tr style=\"text-align: right;\">\n",
       "      <th></th>\n",
       "      <th>sum_sq</th>\n",
       "      <th>df</th>\n",
       "      <th>F</th>\n",
       "      <th>PR(&gt;F)</th>\n",
       "    </tr>\n",
       "  </thead>\n",
       "  <tbody>\n",
       "    <tr>\n",
       "      <th>C(treatments)</th>\n",
       "      <td>2.593962e+14</td>\n",
       "      <td>3.0</td>\n",
       "      <td>14215.435539</td>\n",
       "      <td>0.0</td>\n",
       "    </tr>\n",
       "    <tr>\n",
       "      <th>Residual</th>\n",
       "      <td>3.454860e+12</td>\n",
       "      <td>568.0</td>\n",
       "      <td>NaN</td>\n",
       "      <td>NaN</td>\n",
       "    </tr>\n",
       "  </tbody>\n",
       "</table>\n",
       "</div>"
      ],
      "text/plain": [
       "                     sum_sq     df             F  PR(>F)\n",
       "C(treatments)  2.593962e+14    3.0  14215.435539     0.0\n",
       "Residual       3.454860e+12  568.0           NaN     NaN"
      ]
     },
     "execution_count": 27,
     "metadata": {},
     "output_type": "execute_result"
    }
   ],
   "source": [
    "walmart_first_melt = pd.melt(walmart_first.reset_index(),id_vars=['index'],value_vars=['CPI','Unemployment','Fuel_Price','Weekly_Sales'])\n",
    "walmart_first_melt.columns = ['index','treatments','value']\n",
    "model = ols('value ~ C(treatments)', data=walmart_first_melt).fit()\n",
    "anova_table = sm.stats.anova_lm(model, typ=2)\n",
    "anova_table"
   ]
  },
  {
   "cell_type": "markdown",
   "metadata": {
    "colab_type": "text",
    "id": "JyoGVdb_0snH"
   },
   "source": [
    "The P-value obtained from ANOVA analysis is significant (P<0.05), hence null hypothesis is rejected. CPI, unemployment, and fuel price have an impact on sales."
   ]
  },
  {
   "cell_type": "markdown",
   "metadata": {
    "colab_type": "text",
    "id": "PP-uv9Wn0_Bf"
   },
   "source": [
    "Post-hoc comparison"
   ]
  },
  {
   "cell_type": "code",
   "execution_count": 28,
   "metadata": {
    "colab": {
     "base_uri": "https://localhost:8080/",
     "height": 0
    },
    "colab_type": "code",
    "id": "970kf2vX0_DV",
    "outputId": "6ef74375-7ed6-4f37-df92-e455be7452fb"
   },
   "outputs": [
    {
     "name": "stdout",
     "output_type": "stream",
     "text": [
      "             Multiple Comparison of Means - Tukey HSD, FWER=0.05             \n",
      "=============================================================================\n",
      "   group1       group2      meandiff   p-adj    lower        upper     reject\n",
      "-----------------------------------------------------------------------------\n",
      "         CPI   Fuel_Price    -212.7772   0.9  -23978.5693    23553.015  False\n",
      "         CPI Unemployment    -208.3865   0.9  -23974.1786   23557.4057  False\n",
      "         CPI Weekly_Sales 1555048.4007 0.001 1531282.6085 1578814.1928   True\n",
      "  Fuel_Price Unemployment       4.3907   0.9  -23761.4014   23770.1829  False\n",
      "  Fuel_Price Weekly_Sales 1555261.1779 0.001 1531495.3857   1579026.97   True\n",
      "Unemployment Weekly_Sales 1555256.7871 0.001  1531490.995 1579022.5793   True\n",
      "-----------------------------------------------------------------------------\n"
     ]
    }
   ],
   "source": [
    "m_comp = pairwise_tukeyhsd(endog=walmart_first_melt['value'],groups=walmart_first_melt['treatments'],alpha=0.05)\n",
    "print(m_comp)"
   ]
  },
  {
   "cell_type": "code",
   "execution_count": 29,
   "metadata": {
    "colab": {
     "base_uri": "https://localhost:8080/",
     "height": 0
    },
    "colab_type": "code",
    "id": "ZIM8bwFo4KvC",
    "outputId": "12115354-84fc-4651-bdf0-3d569dce3bc8"
   },
   "outputs": [
    {
     "data": {
      "text/plain": [
       "<AxesSubplot:xlabel='CPI', ylabel='Weekly_Sales'>"
      ]
     },
     "execution_count": 29,
     "metadata": {},
     "output_type": "execute_result"
    },
    {
     "data": {
      "image/png": "[encoded data removed]",
      "text/plain": [
       "<Figure size 432x288 with 1 Axes>"
      ]
     },
     "metadata": {
      "needs_background": "light"
     },
     "output_type": "display_data"
    }
   ],
   "source": [
    "sns.scatterplot(x=walmart_first['CPI'],y=walmart_first['Weekly_Sales'])"
   ]
  },
  {
   "cell_type": "code",
   "execution_count": 30,
   "metadata": {
    "colab": {
     "base_uri": "https://localhost:8080/",
     "height": 0
    },
    "colab_type": "code",
    "id": "6zenkzpe8iCI",
    "outputId": "758e8d57-8992-43ec-f65f-0f0c9f622646"
   },
   "outputs": [
    {
     "data": {
      "text/plain": [
       "<AxesSubplot:xlabel='Fuel_Price', ylabel='Weekly_Sales'>"
      ]
     },
     "execution_count": 30,
     "metadata": {},
     "output_type": "execute_result"
    },
    {
     "data": {
      "image/png": "[encoded data removed]",
      "text/plain": [
       "<Figure size 432x288 with 1 Axes>"
      ]
     },
     "metadata": {
      "needs_background": "light"
     },
     "output_type": "display_data"
    }
   ],
   "source": [
    "sns.scatterplot(x=walmart_first['Fuel_Price'],y=walmart_first['Weekly_Sales'])"
   ]
  },
  {
   "cell_type": "code",
   "execution_count": 31,
   "metadata": {
    "colab": {
     "base_uri": "https://localhost:8080/",
     "height": 0
    },
    "colab_type": "code",
    "id": "GMayLQY08ifY",
    "outputId": "bd5320dc-64c2-4f8c-aa93-eb2e1b696b77"
   },
   "outputs": [
    {
     "data": {
      "text/plain": [
       "<AxesSubplot:xlabel='Unemployment', ylabel='Weekly_Sales'>"
      ]
     },
     "execution_count": 31,
     "metadata": {},
     "output_type": "execute_result"
    },
    {
     "data": {
      "image/png": "[encoded data removed]",
      "text/plain": [
       "<Figure size 432x288 with 1 Axes>"
      ]
     },
     "metadata": {
      "needs_background": "light"
     },
     "output_type": "display_data"
    }
   ],
   "source": [
    "sns.scatterplot(x=walmart_first['Unemployment'],y=walmart_first['Weekly_Sales'])"
   ]
  },
  {
   "cell_type": "markdown",
   "metadata": {
    "colab_type": "text",
    "id": "q2s3S1aqWiHc"
   },
   "source": [
    "## Task 7 - Change dates into days by creating new variable. Select the model which gives best accuracy."
   ]
  },
  {
   "cell_type": "markdown",
   "metadata": {
    "colab_type": "text",
    "id": "pSLIiEOsHNnz"
   },
   "source": [
    "### Task 7 Subtask 1 - Post Processing"
   ]
  },
  {
   "cell_type": "code",
   "execution_count": 32,
   "metadata": {
    "colab": {
     "base_uri": "https://localhost:8080/",
     "height": 0
    },
    "colab_type": "code",
    "id": "-SxoZL5C_hkY",
    "outputId": "6f368fb0-06dd-425f-ca93-fcdf55aec5e8"
   },
   "outputs": [
    {
     "data": {
      "text/plain": [
       "((143, 6), (143,))"
      ]
     },
     "execution_count": 32,
     "metadata": {},
     "output_type": "execute_result"
    }
   ],
   "source": [
    "features=walmart_first.drop(['Store','Weekly_Sales'],axis=1)\n",
    "label=walmart_first['Weekly_Sales']\n",
    "features.shape,label.shape"
   ]
  },
  {
   "cell_type": "code",
   "execution_count": 33,
   "metadata": {
    "colab": {
     "base_uri": "https://localhost:8080/",
     "height": 0
    },
    "colab_type": "code",
    "id": "qxXc70YDBSvu",
    "outputId": "231fe2e6-529a-4b63-822f-67d580fb21cf"
   },
   "outputs": [
    {
     "name": "stdout",
     "output_type": "stream",
     "text": [
      "(100, 6)\n",
      "(43, 6)\n",
      "(100,)\n",
      "(43,)\n"
     ]
    }
   ],
   "source": [
    "x_train,x_test,y_train,y_test = train_test_split(features,label,test_size=0.3,random_state=42)\n",
    "print(x_train.shape)\n",
    "print(x_test.shape)\n",
    "print(y_train.shape)\n",
    "print(y_test.shape)"
   ]
  },
  {
   "cell_type": "markdown",
   "metadata": {
    "colab_type": "text",
    "id": "adO0irpnHU2l"
   },
   "source": [
    "#### Model 1 - Linear Regression"
   ]
  },
  {
   "cell_type": "code",
   "execution_count": 34,
   "metadata": {
    "colab": {
     "base_uri": "https://localhost:8080/",
     "height": 0
    },
    "colab_type": "code",
    "id": "4_KE0jkF_jVK",
    "outputId": "ba6136e6-4dda-4e3e-875f-e73bd6f8dd27"
   },
   "outputs": [
    {
     "data": {
      "text/plain": [
       "LinearRegression(normalize=True)"
      ]
     },
     "execution_count": 34,
     "metadata": {},
     "output_type": "execute_result"
    }
   ],
   "source": [
    "lin_reg = LinearRegression(normalize=True)\n",
    "lin_reg.fit(x_train,y_train)"
   ]
  },
  {
   "cell_type": "code",
   "execution_count": 35,
   "metadata": {
    "colab": {
     "base_uri": "https://localhost:8080/",
     "height": 0
    },
    "colab_type": "code",
    "id": "W_URVWesBz6W",
    "outputId": "8ec7318c-4788-499d-ad93-68c52e8d13f6"
   },
   "outputs": [
    {
     "data": {
      "text/plain": [
       "10.17"
      ]
     },
     "execution_count": 35,
     "metadata": {},
     "output_type": "execute_result"
    }
   ],
   "source": [
    "y_pred=lin_reg.predict(x_test)\n",
    "acc_lin_reg = round(lin_reg.score(x_train,y_train)*100,2)\n",
    "acc_lin_reg"
   ]
  },
  {
   "cell_type": "markdown",
   "metadata": {
    "colab_type": "text",
    "id": "5-Urms2WHZoP"
   },
   "source": [
    "#### Model 2 - KNN Regression"
   ]
  },
  {
   "cell_type": "code",
   "execution_count": 36,
   "metadata": {
    "colab": {
     "base_uri": "https://localhost:8080/",
     "height": 0
    },
    "colab_type": "code",
    "id": "r2cnYwgvDHP0",
    "outputId": "13c929f6-ba22-4874-ccd5-75fc825a8a4c"
   },
   "outputs": [
    {
     "data": {
      "text/plain": [
       "KNeighborsRegressor()"
      ]
     },
     "execution_count": 36,
     "metadata": {},
     "output_type": "execute_result"
    }
   ],
   "source": [
    "knn_reg = KNeighborsRegressor()\n",
    "knn_reg.fit(x_train,y_train)"
   ]
  },
  {
   "cell_type": "code",
   "execution_count": 37,
   "metadata": {
    "colab": {
     "base_uri": "https://localhost:8080/",
     "height": 0
    },
    "colab_type": "code",
    "id": "hJgD-LsxDSMN",
    "outputId": "5d9789a5-6bb9-4b90-da83-fb217aa85cb7"
   },
   "outputs": [
    {
     "data": {
      "text/plain": [
       "15.05"
      ]
     },
     "execution_count": 37,
     "metadata": {},
     "output_type": "execute_result"
    }
   ],
   "source": [
    "y_pred=knn_reg.predict(x_test)\n",
    "acc_knn_reg = round(knn_reg.score(x_train,y_train)*100,2)\n",
    "acc_knn_reg"
   ]
  },
  {
   "cell_type": "markdown",
   "metadata": {
    "colab_type": "text",
    "id": "oexC5A5fHgRT"
   },
   "source": [
    "#### Model 3 - Random Forest Regression"
   ]
  },
  {
   "cell_type": "code",
   "execution_count": 38,
   "metadata": {
    "colab": {
     "base_uri": "https://localhost:8080/",
     "height": 0
    },
    "colab_type": "code",
    "id": "G7WvYEP3B4gK",
    "outputId": "ef2c0253-13d9-4191-af91-a4175fdd7e31"
   },
   "outputs": [
    {
     "data": {
      "text/plain": [
       "RandomForestRegressor()"
      ]
     },
     "execution_count": 38,
     "metadata": {},
     "output_type": "execute_result"
    }
   ],
   "source": [
    "rf_reg = RandomForestRegressor()\n",
    "rf_reg.fit(x_train,y_train)"
   ]
  },
  {
   "cell_type": "code",
   "execution_count": 39,
   "metadata": {
    "colab": {
     "base_uri": "https://localhost:8080/",
     "height": 0
    },
    "colab_type": "code",
    "id": "N7qNqDt0DATt",
    "outputId": "841fe0a6-960a-43c9-d24f-c0315c2894b6"
   },
   "outputs": [
    {
     "data": {
      "text/plain": [
       "86.76"
      ]
     },
     "execution_count": 39,
     "metadata": {},
     "output_type": "execute_result"
    }
   ],
   "source": [
    "y_pred=rf_reg.predict(x_test)\n",
    "acc_rf_reg = round(rf_reg.score(x_train,y_train)*100,2)\n",
    "acc_rf_reg"
   ]
  },
  {
   "cell_type": "markdown",
   "metadata": {
    "colab_type": "text",
    "id": "Q65gjgyNHmUw"
   },
   "source": [
    "#### Model Results"
   ]
  },
  {
   "cell_type": "code",
   "execution_count": 40,
   "metadata": {
    "colab": {
     "base_uri": "https://localhost:8080/",
     "height": 142
    },
    "colab_type": "code",
    "id": "OXwVYuGrDXk6",
    "outputId": "8d7bff2e-1391-4592-948a-a52b27dcfb95"
   },
   "outputs": [
    {
     "data": {
      "text/html": [
       "<div>\n",
       "<style scoped>\n",
       "    .dataframe tbody tr th:only-of-type {\n",
       "        vertical-align: middle;\n",
       "    }\n",
       "\n",
       "    .dataframe tbody tr th {\n",
       "        vertical-align: top;\n",
       "    }\n",
       "\n",
       "    .dataframe thead th {\n",
       "        text-align: right;\n",
       "    }\n",
       "</style>\n",
       "<table border=\"1\" class=\"dataframe\">\n",
       "  <thead>\n",
       "    <tr style=\"text-align: right;\">\n",
       "      <th></th>\n",
       "      <th>Model</th>\n",
       "      <th>Score</th>\n",
       "    </tr>\n",
       "  </thead>\n",
       "  <tbody>\n",
       "    <tr>\n",
       "      <th>2</th>\n",
       "      <td>Random Forest Regression</td>\n",
       "      <td>86.76</td>\n",
       "    </tr>\n",
       "    <tr>\n",
       "      <th>1</th>\n",
       "      <td>KNN Regression</td>\n",
       "      <td>15.05</td>\n",
       "    </tr>\n",
       "    <tr>\n",
       "      <th>0</th>\n",
       "      <td>Linear Regression</td>\n",
       "      <td>10.17</td>\n",
       "    </tr>\n",
       "  </tbody>\n",
       "</table>\n",
       "</div>"
      ],
      "text/plain": [
       "                      Model  Score\n",
       "2  Random Forest Regression  86.76\n",
       "1            KNN Regression  15.05\n",
       "0         Linear Regression  10.17"
      ]
     },
     "execution_count": 40,
     "metadata": {},
     "output_type": "execute_result"
    }
   ],
   "source": [
    "models = pd.DataFrame({'Model':['Linear Regression','KNN Regression','Random Forest Regression'],'Score':[acc_lin_reg,acc_knn_reg,acc_rf_reg]})\n",
    "models.sort_values(by='Score',ascending=False)"
   ]
  },
  {
   "cell_type": "code",
   "execution_count": 41,
   "metadata": {
    "colab_type": "text",
    "id": "RebB-uEMF6p4"
   },
   "outputs": [
    {
     "name": "stdout",
     "output_type": "stream",
     "text": [
      "The best model was found to be Random Forest Regression scoring at 86.76 % on testing data.\n"
     ]
    }
   ],
   "source": [
    "print('The best model was found to be {} scoring at {} % on testing data.'.format(models['Model'].loc[models['Score'].idxmax()],max(models['Score'])))"
   ]
  },
  {
   "cell_type": "markdown",
   "metadata": {},
   "source": [
    "# ---X---"
   ]
  }
 ],
 "metadata": {
  "colab": {
   "collapsed_sections": [
    "1m-ECS8bGLI6",
    "D_uvZf5vWFcd",
    "sripXj36WNkp",
    "PDMzoYpIWQ-v",
    "dCnT1fGSWTJP",
    "fB37DRCHWV6A",
    "oi7LEFeLWYsD",
    "pFrwC98dWbCn",
    "5ebXRqTfWgKI",
    "pSLIiEOsHNnz",
    "adO0irpnHU2l",
    "5-Urms2WHZoP",
    "oexC5A5fHgRT"
   ],
   "name": "DSP Project 04 - Retail Analysis with Walmart Data",
   "provenance": []
  },
  "kernelspec": {
   "display_name": "Python 3",
   "language": "python",
   "name": "python3"
  },
  "language_info": {
   "codemirror_mode": {
    "name": "ipython",
    "version": 3
   },
   "file_extension": ".py",
   "mimetype": "text/x-python",
   "name": "python",
   "nbconvert_exporter": "python",
   "pygments_lexer": "ipython3",
   "version": "3.9.2"
  }
 },
 "nbformat": 4,
 "nbformat_minor": 4
}
